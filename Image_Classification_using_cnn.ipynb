{
  "nbformat": 4,
  "nbformat_minor": 0,
  "metadata": {
    "colab": {
      "name": "Image Classification using cnn.ipynb",
      "provenance": [],
      "collapsed_sections": [],
      "mount_file_id": "19sl-vSrS7y_7ab74JVWd8mx7NgXNm8gz",
      "authorship_tag": "ABX9TyM0DOHjMZe0/NdzL4aWBrqG",
      "include_colab_link": true
    },
    "kernelspec": {
      "name": "python3",
      "display_name": "Python 3"
    },
    "accelerator": "TPU"
  },
  "cells": [
    {
      "cell_type": "markdown",
      "metadata": {
        "id": "view-in-github",
        "colab_type": "text"
      },
      "source": [
        "<a href=\"https://colab.research.google.com/github/haristark123/Feature-Engineering-Live-sessions/blob/master/Image_Classification_using_cnn.ipynb\" target=\"_parent\"><img src=\"https://colab.research.google.com/assets/colab-badge.svg\" alt=\"Open In Colab\"/></a>"
      ]
    },
    {
      "cell_type": "code",
      "metadata": {
        "id": "7tf579lArZba"
      },
      "source": [
        "import tensorflow as tf\r\n",
        "from tensorflow.keras.preprocessing.image import ImageDataGenerator"
      ],
      "execution_count": 1,
      "outputs": []
    },
    {
      "cell_type": "code",
      "metadata": {
        "id": "nsSDo2qfrDQf"
      },
      "source": [
        "train_datagen=ImageDataGenerator(rescale=1./255,shear_range=0.2,zoom_range=0.2,horizontal_flip=True)"
      ],
      "execution_count": 2,
      "outputs": []
    },
    {
      "cell_type": "code",
      "metadata": {
        "colab": {
          "base_uri": "https://localhost:8080/"
        },
        "id": "5jAdM9JJrahO",
        "outputId": "1de8f1a6-e349-43ae-bf63-e5142544e205"
      },
      "source": [
        "train_data=train_datagen.flow_from_directory('/content/drive/MyDrive/dataset/training_set',target_size=(64,64),batch_size=32,class_mode='binary')"
      ],
      "execution_count": 3,
      "outputs": [
        {
          "output_type": "stream",
          "text": [
            "Found 8000 images belonging to 2 classes.\n"
          ],
          "name": "stdout"
        }
      ]
    },
    {
      "cell_type": "code",
      "metadata": {
        "colab": {
          "base_uri": "https://localhost:8080/"
        },
        "id": "vJK8hpM2r5OO",
        "outputId": "066fff5a-cbf6-4f66-bcf1-29ad5b938ac5"
      },
      "source": [
        "test_datagen=ImageDataGenerator(rescale=1./255)\r\n",
        "test_data=test_datagen.flow_from_directory('/content/drive/MyDrive/dataset/test_set',target_size=(64,64),batch_size=32,class_mode='binary')"
      ],
      "execution_count": 4,
      "outputs": [
        {
          "output_type": "stream",
          "text": [
            "Found 2000 images belonging to 2 classes.\n"
          ],
          "name": "stdout"
        }
      ]
    },
    {
      "cell_type": "code",
      "metadata": {
        "id": "2FnhfxAjsYvE"
      },
      "source": [
        "cnn=tf.keras.models.Sequential()"
      ],
      "execution_count": 5,
      "outputs": []
    },
    {
      "cell_type": "code",
      "metadata": {
        "id": "rVIfejztsx19"
      },
      "source": [
        "cnn.add(tf.keras.layers.Conv2D(filters=32,kernel_size=3,padding='same',activation='relu',strides=1,input_shape=[64,64,3]))"
      ],
      "execution_count": 6,
      "outputs": []
    },
    {
      "cell_type": "code",
      "metadata": {
        "id": "WGEeSCBKtdJZ"
      },
      "source": [
        "cnn.add(tf.keras.layers.MaxPool2D(pool_size=2, strides=2))\r\n",
        "\r\n",
        "# Adding a second convolutional layer\r\n",
        "cnn.add(tf.keras.layers.Conv2D(filters=32,padding='same',kernel_size=3, activation='relu'))\r\n",
        "cnn.add(tf.keras.layers.MaxPool2D(pool_size=2, strides=2))\r\n",
        "\r\n",
        "# Step 3 - Flattening\r\n",
        "cnn.add(tf.keras.layers.Flatten())\r\n",
        "\r\n",
        "# Step 4 - Full Connection\r\n",
        "cnn.add(tf.keras.layers.Dense(units=150, activation='relu'))\r\n",
        "\r\n",
        "# Step 5 - Output Layer\r\n",
        "cnn.add(tf.keras.layers.Dense(units=1, activation='sigmoid'))"
      ],
      "execution_count": 7,
      "outputs": []
    },
    {
      "cell_type": "code",
      "metadata": {
        "colab": {
          "base_uri": "https://localhost:8080/"
        },
        "id": "KY2BUTwAtrbP",
        "outputId": "78b1de9c-e614-43cb-cb9d-ef2516178856"
      },
      "source": [
        "cnn.summary()"
      ],
      "execution_count": 8,
      "outputs": [
        {
          "output_type": "stream",
          "text": [
            "Model: \"sequential\"\n",
            "_________________________________________________________________\n",
            "Layer (type)                 Output Shape              Param #   \n",
            "=================================================================\n",
            "conv2d (Conv2D)              (None, 64, 64, 32)        896       \n",
            "_________________________________________________________________\n",
            "max_pooling2d (MaxPooling2D) (None, 32, 32, 32)        0         \n",
            "_________________________________________________________________\n",
            "conv2d_1 (Conv2D)            (None, 32, 32, 32)        9248      \n",
            "_________________________________________________________________\n",
            "max_pooling2d_1 (MaxPooling2 (None, 16, 16, 32)        0         \n",
            "_________________________________________________________________\n",
            "flatten (Flatten)            (None, 8192)              0         \n",
            "_________________________________________________________________\n",
            "dense (Dense)                (None, 150)               1228950   \n",
            "_________________________________________________________________\n",
            "dense_1 (Dense)              (None, 1)                 151       \n",
            "=================================================================\n",
            "Total params: 1,239,245\n",
            "Trainable params: 1,239,245\n",
            "Non-trainable params: 0\n",
            "_________________________________________________________________\n"
          ],
          "name": "stdout"
        }
      ]
    },
    {
      "cell_type": "code",
      "metadata": {
        "colab": {
          "base_uri": "https://localhost:8080/"
        },
        "id": "X74uSQt3tvlB",
        "outputId": "62064a33-7c7f-4b54-8c0e-7f53d8265fd6"
      },
      "source": [
        "cnn.compile(optimizer = 'adam', loss = 'binary_crossentropy', metrics = ['accuracy'])\r\n",
        "\r\n",
        "# Training the CNN on the Training set and evaluating it on the Test set\r\n",
        "cnn.fit(x = train_data, validation_data = test_data, epochs = 10)"
      ],
      "execution_count": 9,
      "outputs": [
        {
          "output_type": "stream",
          "text": [
            "Epoch 1/10\n",
            "250/250 [==============================] - 82s 327ms/step - loss: 0.6815 - accuracy: 0.5685 - val_loss: 0.6435 - val_accuracy: 0.6225\n",
            "Epoch 2/10\n",
            "250/250 [==============================] - 81s 323ms/step - loss: 0.6211 - accuracy: 0.6572 - val_loss: 0.5824 - val_accuracy: 0.7060\n",
            "Epoch 3/10\n",
            "250/250 [==============================] - 80s 321ms/step - loss: 0.5852 - accuracy: 0.6902 - val_loss: 0.5532 - val_accuracy: 0.7220\n",
            "Epoch 4/10\n",
            "250/250 [==============================] - 80s 320ms/step - loss: 0.5497 - accuracy: 0.7160 - val_loss: 0.5242 - val_accuracy: 0.7515\n",
            "Epoch 5/10\n",
            "250/250 [==============================] - 79s 316ms/step - loss: 0.5238 - accuracy: 0.7387 - val_loss: 0.5157 - val_accuracy: 0.7600\n",
            "Epoch 6/10\n",
            "250/250 [==============================] - 79s 317ms/step - loss: 0.4919 - accuracy: 0.7580 - val_loss: 0.5691 - val_accuracy: 0.7115\n",
            "Epoch 7/10\n",
            "250/250 [==============================] - 80s 319ms/step - loss: 0.4824 - accuracy: 0.7674 - val_loss: 0.4806 - val_accuracy: 0.7855\n",
            "Epoch 8/10\n",
            "250/250 [==============================] - 81s 323ms/step - loss: 0.4591 - accuracy: 0.7862 - val_loss: 0.4921 - val_accuracy: 0.7780\n",
            "Epoch 9/10\n",
            "250/250 [==============================] - 81s 325ms/step - loss: 0.4447 - accuracy: 0.7879 - val_loss: 0.4733 - val_accuracy: 0.7885\n",
            "Epoch 10/10\n",
            "250/250 [==============================] - 81s 322ms/step - loss: 0.4231 - accuracy: 0.8041 - val_loss: 0.4902 - val_accuracy: 0.7805\n"
          ],
          "name": "stdout"
        },
        {
          "output_type": "execute_result",
          "data": {
            "text/plain": [
              "<tensorflow.python.keras.callbacks.History at 0x7f38270113c8>"
            ]
          },
          "metadata": {
            "tags": []
          },
          "execution_count": 9
        }
      ]
    },
    {
      "cell_type": "code",
      "metadata": {
        "id": "yMNT9rQWPSTV"
      },
      "source": [
        ""
      ],
      "execution_count": 9,
      "outputs": []
    },
    {
      "cell_type": "code",
      "metadata": {
        "id": "gO02vtEvt8kM"
      },
      "source": [
        "import numpy as np\r\n",
        "from tensorflow.keras.preprocessing import image"
      ],
      "execution_count": 24,
      "outputs": []
    },
    {
      "cell_type": "code",
      "metadata": {
        "id": "N349zd5LQlmR"
      },
      "source": [
        "test_img=image.load_img('/content/drive/MyDrive/dataset/test_set/cats/cat.4012.jpg',target_size=(64,64))"
      ],
      "execution_count": 25,
      "outputs": []
    },
    {
      "cell_type": "code",
      "metadata": {
        "id": "9XLNAuzWQ2pT"
      },
      "source": [
        "test_img=image.img_to_array(test_img)"
      ],
      "execution_count": 26,
      "outputs": []
    },
    {
      "cell_type": "code",
      "metadata": {
        "colab": {
          "base_uri": "https://localhost:8080/"
        },
        "id": "JXqd0H8ZRVSa",
        "outputId": "1a70e804-e0ba-4dae-9934-7a6210f082a0"
      },
      "source": [
        "test_img.shape"
      ],
      "execution_count": 27,
      "outputs": [
        {
          "output_type": "execute_result",
          "data": {
            "text/plain": [
              "(64, 64, 3)"
            ]
          },
          "metadata": {
            "tags": []
          },
          "execution_count": 27
        }
      ]
    },
    {
      "cell_type": "code",
      "metadata": {
        "colab": {
          "base_uri": "https://localhost:8080/"
        },
        "id": "BC_8KuXuSFHq",
        "outputId": "1b6e352d-a3a6-41b9-fd1c-f9f5afe8ab8a"
      },
      "source": [
        "test_img=test_img/255\r\n",
        "test_img.shape"
      ],
      "execution_count": 28,
      "outputs": [
        {
          "output_type": "execute_result",
          "data": {
            "text/plain": [
              "(64, 64, 3)"
            ]
          },
          "metadata": {
            "tags": []
          },
          "execution_count": 28
        }
      ]
    },
    {
      "cell_type": "code",
      "metadata": {
        "colab": {
          "base_uri": "https://localhost:8080/"
        },
        "id": "S6Q41_XqSQo5",
        "outputId": "8bb52bbd-aa75-4c7a-8fcb-04a82722f2aa"
      },
      "source": [
        "test_img= np.expand_dims(test_img, axis = 0)\r\n",
        "test_img.shape"
      ],
      "execution_count": 29,
      "outputs": [
        {
          "output_type": "execute_result",
          "data": {
            "text/plain": [
              "(1, 64, 64, 3)"
            ]
          },
          "metadata": {
            "tags": []
          },
          "execution_count": 29
        }
      ]
    },
    {
      "cell_type": "code",
      "metadata": {
        "id": "6PQoWP6uSynU"
      },
      "source": [
        "result = cnn.predict(test_img)"
      ],
      "execution_count": 30,
      "outputs": []
    },
    {
      "cell_type": "code",
      "metadata": {
        "colab": {
          "base_uri": "https://localhost:8080/"
        },
        "id": "BmS9SbKVT4FI",
        "outputId": "bd642891-bcc1-4a00-823b-6df8e9ee24b4"
      },
      "source": [
        "result"
      ],
      "execution_count": 31,
      "outputs": [
        {
          "output_type": "execute_result",
          "data": {
            "text/plain": [
              "array([[0.11356822]], dtype=float32)"
            ]
          },
          "metadata": {
            "tags": []
          },
          "execution_count": 31
        }
      ]
    },
    {
      "cell_type": "code",
      "metadata": {
        "colab": {
          "base_uri": "https://localhost:8080/"
        },
        "id": "PbCG-sxfT82x",
        "outputId": "67973452-dd0e-417c-eaf0-a601adfd36d5"
      },
      "source": [
        "if result[0]<=0.5:\r\n",
        "    print(\"The image classified is cat\")\r\n",
        "else:\r\n",
        "    print(\"The image classified is dog\")"
      ],
      "execution_count": 32,
      "outputs": [
        {
          "output_type": "stream",
          "text": [
            "The image classified is cat\n"
          ],
          "name": "stdout"
        }
      ]
    },
    {
      "cell_type": "code",
      "metadata": {
        "id": "ndgMO2PjUMu2"
      },
      "source": [
        ""
      ],
      "execution_count": 18,
      "outputs": []
    }
  ]
}